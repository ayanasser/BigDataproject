{
 "cells": [
  {
   "cell_type": "code",
   "execution_count": 1,
   "id": "3a003050-ee9f-4758-b239-6ffb886bf9ed",
   "metadata": {},
   "outputs": [
    {
     "name": "stdout",
     "output_type": "stream",
     "text": [
      "Requirement already satisfied: pyspark in /usr/local/spark/python (3.5.0)\n",
      "Requirement already satisfied: py4j==0.10.9.7 in /opt/conda/lib/python3.11/site-packages (from pyspark) (0.10.9.7)\n"
     ]
    }
   ],
   "source": [
    "!pip install pyspark"
   ]
  },
  {
   "cell_type": "code",
   "execution_count": 2,
   "id": "dfd3b747-0c2a-4eab-9a54-22b20e20d8e3",
   "metadata": {},
   "outputs": [],
   "source": [
    "from pyspark.sql import SparkSession\n",
    "\n",
    "# Initialize Spark session\n",
    "spark = SparkSession.builder \\\n",
    "    .appName(\"Spark_Batch_Processing\") \\\n",
    "    .getOrCreate()"
   ]
  },
  {
   "cell_type": "code",
   "execution_count": 3,
   "id": "506a296e-6f10-4ee6-b657-e3da44aa92ac",
   "metadata": {},
   "outputs": [
    {
     "data": {
      "text/html": [
       "\n",
       "            <div>\n",
       "                <p><b>SparkSession - in-memory</b></p>\n",
       "                \n",
       "        <div>\n",
       "            <p><b>SparkContext</b></p>\n",
       "\n",
       "            <p><a href=\"http://ffb053c5fe36:4040\">Spark UI</a></p>\n",
       "\n",
       "            <dl>\n",
       "              <dt>Version</dt>\n",
       "                <dd><code>v3.5.0</code></dd>\n",
       "              <dt>Master</dt>\n",
       "                <dd><code>local[*]</code></dd>\n",
       "              <dt>AppName</dt>\n",
       "                <dd><code>Spark_Batch_Processing</code></dd>\n",
       "            </dl>\n",
       "        </div>\n",
       "        \n",
       "            </div>\n",
       "        "
      ],
      "text/plain": [
       "<pyspark.sql.session.SparkSession at 0x73f28c0602d0>"
      ]
     },
     "execution_count": 3,
     "metadata": {},
     "output_type": "execute_result"
    }
   ],
   "source": [
    "spark"
   ]
  },
  {
   "cell_type": "markdown",
   "id": "a7fada2b-0416-4521-b7dc-08f0d5cc2675",
   "metadata": {},
   "source": [
    "# 1. load data into an RDD and filter "
   ]
  },
  {
   "cell_type": "code",
   "execution_count": 3,
   "id": "79d63bed-67ac-4a01-b0bf-cad823c77af9",
   "metadata": {},
   "outputs": [],
   "source": [
    "# Load the ADMISSIONS.csv file into an RDD\n",
    "rdd = spark.sparkContext.textFile(\"hdfs://namenode:9000/mimic-iii/ADMISSIONS.csv\")"
   ]
  },
  {
   "cell_type": "code",
   "execution_count": 15,
   "id": "9e95506e-3844-42e9-9ea8-b2b410b0aeb5",
   "metadata": {},
   "outputs": [],
   "source": [
    "# Extract the header (first row)\n",
    "header = rdd.first()"
   ]
  },
  {
   "cell_type": "code",
   "execution_count": 16,
   "id": "89482f58-4766-48df-a69d-f82b926ca30d",
   "metadata": {},
   "outputs": [
    {
     "name": "stdout",
     "output_type": "stream",
     "text": [
      "First row of the RDD (as a list of columns):\n",
      "['21', '22', '165315', '2196-04-09 12:26:00', '2196-04-10 15:54:00', '', '\"EMERGENCY\"', '\"EMERGENCY ROOM ADMIT\"', '\"DISC-TRAN CANCER/CHLDRN H\"', '\"Private\"', '', '\"UNOBTAINABLE\"', '\"MARRIED\"', '\"WHITE\"', '2196-04-09 10:06:00', '2196-04-09 13:24:00', '\"BENZODIAZEPINE OVERDOSE\"', '0', '1']\n"
     ]
    }
   ],
   "source": [
    "# Filter out the header and split rows into columns\n",
    "rows_rdd = rdd.filter(lambda line: line != header).map(lambda line: line.split(\",\"))\n",
    "\n",
    "# Verify the structure of the RDD\n",
    "print(\"First row of the RDD (as a list of columns):\")\n",
    "first_row = rows_rdd.first()\n",
    "print(first_row)"
   ]
  },
  {
   "cell_type": "code",
   "execution_count": 17,
   "id": "161373dd-3384-42b4-99fe-17fe5a7826fb",
   "metadata": {},
   "outputs": [
    {
     "name": "stdout",
     "output_type": "stream",
     "text": [
      "Column indices and values:\n",
      "Column 0: 21\n",
      "Column 1: 22\n",
      "Column 2: 165315\n",
      "Column 3: 2196-04-09 12:26:00\n",
      "Column 4: 2196-04-10 15:54:00\n",
      "Column 5: \n",
      "Column 6: \"EMERGENCY\"\n",
      "Column 7: \"EMERGENCY ROOM ADMIT\"\n",
      "Column 8: \"DISC-TRAN CANCER/CHLDRN H\"\n",
      "Column 9: \"Private\"\n",
      "Column 10: \n",
      "Column 11: \"UNOBTAINABLE\"\n",
      "Column 12: \"MARRIED\"\n",
      "Column 13: \"WHITE\"\n",
      "Column 14: 2196-04-09 10:06:00\n",
      "Column 15: 2196-04-09 13:24:00\n",
      "Column 16: \"BENZODIAZEPINE OVERDOSE\"\n",
      "Column 17: 0\n",
      "Column 18: 1\n"
     ]
    }
   ],
   "source": [
    "# Print the index and value of each column\n",
    "print(\"Column indices and values:\")\n",
    "for idx, value in enumerate(first_row):\n",
    "    print(f\"Column {idx}: {value}\")"
   ]
  },
  {
   "cell_type": "code",
   "execution_count": 20,
   "id": "d094d171-30ba-4533-961e-a7b766cdd79e",
   "metadata": {},
   "outputs": [],
   "source": [
    "# Filter rows based on admission type (e.g., \"EMERGENCY\")\n",
    "# Assuming ADMISSION_TYPE is at index 6\n",
    "filtered_rdd = rows_rdd.filter(lambda row: row[6] == '\"EMERGENCY\"')"
   ]
  },
  {
   "cell_type": "code",
   "execution_count": 21,
   "id": "821012bd-fee0-4503-903f-f26cb4a67ab7",
   "metadata": {},
   "outputs": [
    {
     "name": "stdout",
     "output_type": "stream",
     "text": [
      "Filtered rows:\n",
      "['21', '22', '165315', '2196-04-09 12:26:00', '2196-04-10 15:54:00', '', '\"EMERGENCY\"', '\"EMERGENCY ROOM ADMIT\"', '\"DISC-TRAN CANCER/CHLDRN H\"', '\"Private\"', '', '\"UNOBTAINABLE\"', '\"MARRIED\"', '\"WHITE\"', '2196-04-09 10:06:00', '2196-04-09 13:24:00', '\"BENZODIAZEPINE OVERDOSE\"', '0', '1']\n",
      "['23', '23', '124321', '2157-10-18 19:34:00', '2157-10-25 14:00:00', '', '\"EMERGENCY\"', '\"TRANSFER FROM HOSP/EXTRAM\"', '\"HOME HEALTH CARE\"', '\"Medicare\"', '\"ENGL\"', '\"CATHOLIC\"', '\"MARRIED\"', '\"WHITE\"', '', '', '\"BRAIN MASS\"', '0', '1']\n",
      "['24', '24', '161859', '2139-06-06 16:14:00', '2139-06-09 12:48:00', '', '\"EMERGENCY\"', '\"TRANSFER FROM HOSP/EXTRAM\"', '\"HOME\"', '\"Private\"', '', '\"PROTESTANT QUAKER\"', '\"SINGLE\"', '\"WHITE\"', '', '', '\"INTERIOR MYOCARDIAL INFARCTION\"', '0', '1']\n",
      "['25', '25', '129635', '2160-11-02 02:06:00', '2160-11-05 14:55:00', '', '\"EMERGENCY\"', '\"EMERGENCY ROOM ADMIT\"', '\"HOME\"', '\"Private\"', '', '\"UNOBTAINABLE\"', '\"MARRIED\"', '\"WHITE\"', '2160-11-02 01:01:00', '2160-11-02 04:27:00', '\"ACUTE CORONARY SYNDROME\"', '0', '1']\n",
      "['26', '26', '197661', '2126-05-06 15:16:00', '2126-05-13 15:00:00', '', '\"EMERGENCY\"', '\"TRANSFER FROM HOSP/EXTRAM\"', '\"HOME\"', '\"Medicare\"', '', '\"CATHOLIC\"', '\"SINGLE\"', '\"UNKNOWN/NOT SPECIFIED\"', '', '', '\"V-TACH\"', '0', '1']\n"
     ]
    }
   ],
   "source": [
    "# Show the filtered RDD\n",
    "print(\"Filtered rows:\")\n",
    "for row in filtered_rdd.take(5):\n",
    "    print(row)"
   ]
  },
  {
   "cell_type": "markdown",
   "id": "9ac850e1-0992-4a8f-95e0-a7b216abcbb1",
   "metadata": {},
   "source": [
    "# 2. load data and filter using Spark Dataframes"
   ]
  },
  {
   "cell_type": "code",
   "execution_count": 4,
   "id": "0a1053b4-e75a-4922-977f-a822f06f52bf",
   "metadata": {},
   "outputs": [],
   "source": [
    "df = spark.read.format(\"csv\").option(\"header\", True).option(\"inferSchema\", True).load(\"hdfs://namenode:9000/mimic-iii/ADMISSIONS.csv\")"
   ]
  },
  {
   "cell_type": "code",
   "execution_count": 5,
   "id": "44bf697f-ab55-4023-86d4-6ea12c0bc42f",
   "metadata": {
    "scrolled": true
   },
   "outputs": [
    {
     "name": "stdout",
     "output_type": "stream",
     "text": [
      "+------+----------+-------+-------------------+-------------------+-------------------+--------------+--------------------+--------------------+---------+--------+-----------------+--------------+--------------------+-------------------+-------------------+--------------------+--------------------+--------------------+\n",
      "|ROW_ID|SUBJECT_ID|HADM_ID|          ADMITTIME|          DISCHTIME|          DEATHTIME|ADMISSION_TYPE|  ADMISSION_LOCATION|  DISCHARGE_LOCATION|INSURANCE|LANGUAGE|         RELIGION|MARITAL_STATUS|           ETHNICITY|          EDREGTIME|          EDOUTTIME|           DIAGNOSIS|HOSPITAL_EXPIRE_FLAG|HAS_CHARTEVENTS_DATA|\n",
      "+------+----------+-------+-------------------+-------------------+-------------------+--------------+--------------------+--------------------+---------+--------+-----------------+--------------+--------------------+-------------------+-------------------+--------------------+--------------------+--------------------+\n",
      "|    21|        22| 165315|2196-04-09 12:26:00|2196-04-10 15:54:00|               NULL|     EMERGENCY|EMERGENCY ROOM ADMIT|DISC-TRAN CANCER/...|  Private|    NULL|     UNOBTAINABLE|       MARRIED|               WHITE|2196-04-09 10:06:00|2196-04-09 13:24:00|BENZODIAZEPINE OV...|                   0|                   1|\n",
      "|    22|        23| 152223|2153-09-03 07:15:00|2153-09-08 19:10:00|               NULL|      ELECTIVE|PHYS REFERRAL/NOR...|    HOME HEALTH CARE| Medicare|    NULL|         CATHOLIC|       MARRIED|               WHITE|               NULL|               NULL|CORONARY ARTERY D...|                   0|                   1|\n",
      "|    23|        23| 124321|2157-10-18 19:34:00|2157-10-25 14:00:00|               NULL|     EMERGENCY|TRANSFER FROM HOS...|    HOME HEALTH CARE| Medicare|    ENGL|         CATHOLIC|       MARRIED|               WHITE|               NULL|               NULL|          BRAIN MASS|                   0|                   1|\n",
      "|    24|        24| 161859|2139-06-06 16:14:00|2139-06-09 12:48:00|               NULL|     EMERGENCY|TRANSFER FROM HOS...|                HOME|  Private|    NULL|PROTESTANT QUAKER|        SINGLE|               WHITE|               NULL|               NULL|INTERIOR MYOCARDI...|                   0|                   1|\n",
      "|    25|        25| 129635|2160-11-02 02:06:00|2160-11-05 14:55:00|               NULL|     EMERGENCY|EMERGENCY ROOM ADMIT|                HOME|  Private|    NULL|     UNOBTAINABLE|       MARRIED|               WHITE|2160-11-02 01:01:00|2160-11-02 04:27:00|ACUTE CORONARY SY...|                   0|                   1|\n",
      "|    26|        26| 197661|2126-05-06 15:16:00|2126-05-13 15:00:00|               NULL|     EMERGENCY|TRANSFER FROM HOS...|                HOME| Medicare|    NULL|         CATHOLIC|        SINGLE|UNKNOWN/NOT SPECI...|               NULL|               NULL|              V-TACH|                   0|                   1|\n",
      "|    27|        27| 134931|2191-11-30 22:16:00|2191-12-03 14:45:00|               NULL|       NEWBORN|PHYS REFERRAL/NOR...|                HOME|  Private|    NULL|         CATHOLIC|          NULL|               WHITE|               NULL|               NULL|             NEWBORN|                   0|                   1|\n",
      "|    28|        28| 162569|2177-09-01 07:15:00|2177-09-06 16:00:00|               NULL|      ELECTIVE|PHYS REFERRAL/NOR...|    HOME HEALTH CARE| Medicare|    NULL|         CATHOLIC|       MARRIED|               WHITE|               NULL|               NULL|CORONARY ARTERY D...|                   0|                   1|\n",
      "|    29|        30| 104557|2172-10-14 14:17:00|2172-10-19 14:37:00|               NULL|        URGENT|TRANSFER FROM HOS...|    HOME HEALTH CARE| Medicare|    NULL|         CATHOLIC|       MARRIED|UNKNOWN/NOT SPECI...|               NULL|               NULL|UNSTABLE ANGINA\\CATH|                   0|                   1|\n",
      "|    30|        31| 128652|2108-08-22 23:27:00|2108-08-30 15:00:00|2108-08-30 15:00:00|     EMERGENCY|TRANSFER FROM HOS...|        DEAD/EXPIRED| Medicare|    NULL|         CATHOLIC|       MARRIED|               WHITE|               NULL|               NULL|  STATUS EPILEPTICUS|                   1|                   1|\n",
      "+------+----------+-------+-------------------+-------------------+-------------------+--------------+--------------------+--------------------+---------+--------+-----------------+--------------+--------------------+-------------------+-------------------+--------------------+--------------------+--------------------+\n",
      "only showing top 10 rows\n",
      "\n"
     ]
    }
   ],
   "source": [
    "df.show(10)"
   ]
  },
  {
   "cell_type": "code",
   "execution_count": 5,
   "id": "c1fbcdb9-01ff-4212-906a-98caf9770a43",
   "metadata": {},
   "outputs": [
    {
     "data": {
      "text/plain": [
       "DataFrame[ROW_ID: int, SUBJECT_ID: int, HADM_ID: int, ADMITTIME: timestamp, DISCHTIME: timestamp, DEATHTIME: timestamp, ADMISSION_TYPE: string, ADMISSION_LOCATION: string, DISCHARGE_LOCATION: string, INSURANCE: string, LANGUAGE: string, RELIGION: string, MARITAL_STATUS: string, ETHNICITY: string, EDREGTIME: timestamp, EDOUTTIME: timestamp, DIAGNOSIS: string, HOSPITAL_EXPIRE_FLAG: int, HAS_CHARTEVENTS_DATA: int]"
      ]
     },
     "execution_count": 5,
     "metadata": {},
     "output_type": "execute_result"
    }
   ],
   "source": [
    "df"
   ]
  },
  {
   "cell_type": "code",
   "execution_count": 6,
   "id": "58f49573-cb94-4857-86fc-7b5eda920758",
   "metadata": {},
   "outputs": [
    {
     "name": "stdout",
     "output_type": "stream",
     "text": [
      "+--------------+\n",
      "|admission_type|\n",
      "+--------------+\n",
      "|       NEWBORN|\n",
      "|      ELECTIVE|\n",
      "|     EMERGENCY|\n",
      "|        URGENT|\n",
      "+--------------+\n",
      "\n"
     ]
    }
   ],
   "source": [
    "df.select('admission_type').distinct().show()"
   ]
  },
  {
   "cell_type": "code",
   "execution_count": 7,
   "id": "f60f4a8f-746b-47c7-a5bc-bb57e58a89b3",
   "metadata": {},
   "outputs": [
    {
     "name": "stdout",
     "output_type": "stream",
     "text": [
      "+------+----------+-------+-------------------+-------------------+---------+--------------+--------------------+--------------------+---------+--------+-----------------+--------------+---------+---------+---------+--------------------+--------------------+--------------------+\n",
      "|ROW_ID|SUBJECT_ID|HADM_ID|          ADMITTIME|          DISCHTIME|DEATHTIME|ADMISSION_TYPE|  ADMISSION_LOCATION|  DISCHARGE_LOCATION|INSURANCE|LANGUAGE|         RELIGION|MARITAL_STATUS|ETHNICITY|EDREGTIME|EDOUTTIME|           DIAGNOSIS|HOSPITAL_EXPIRE_FLAG|HAS_CHARTEVENTS_DATA|\n",
      "+------+----------+-------+-------------------+-------------------+---------+--------------+--------------------+--------------------+---------+--------+-----------------+--------------+---------+---------+---------+--------------------+--------------------+--------------------+\n",
      "|    22|        23| 152223|2153-09-03 07:15:00|2153-09-08 19:10:00|     NULL|      ELECTIVE|PHYS REFERRAL/NOR...|    HOME HEALTH CARE| Medicare|    NULL|         CATHOLIC|       MARRIED|    WHITE|     NULL|     NULL|CORONARY ARTERY D...|                   0|                   1|\n",
      "|    28|        28| 162569|2177-09-01 07:15:00|2177-09-06 16:00:00|     NULL|      ELECTIVE|PHYS REFERRAL/NOR...|    HOME HEALTH CARE| Medicare|    NULL|         CATHOLIC|       MARRIED|    WHITE|     NULL|     NULL|CORONARY ARTERY D...|                   0|                   1|\n",
      "|    31|        32| 175413|2170-04-04 08:00:00|2170-04-23 12:45:00|     NULL|      ELECTIVE|PHYS REFERRAL/NOR...|                HOME| Medicaid|    NULL|     UNOBTAINABLE|          NULL|    WHITE|     NULL|     NULL|TRACHEAL STENOSIS...|                   0|                   1|\n",
      "|    35|        35| 166707|2122-02-10 11:15:00|2122-02-20 15:30:00|     NULL|      ELECTIVE|PHYS REFERRAL/NOR...|    HOME HEALTH CARE| Medicare|    NULL|         CATHOLIC|      DIVORCED|    WHITE|     NULL|     NULL|AORTIC VALVE DISE...|                   0|                   1|\n",
      "|    38|        36| 165660|2134-05-10 11:30:00|2134-05-20 13:16:00|     NULL|      ELECTIVE|PHYS REFERRAL/NOR...|LONG TERM CARE HO...| Medicare|    ENGL|    NOT SPECIFIED|       MARRIED|    WHITE|     NULL|     NULL|  VENTRAL HERNIA/SDA|                   0|                   1|\n",
      "|    42|        41| 101757|2132-12-31 10:30:00|2133-01-27 15:45:00|     NULL|      ELECTIVE|PHYS REFERRAL/NOR...|DISC-TRAN TO FEDE...|  Private|    NULL|PROTESTANT QUAKER|        SINGLE|    WHITE|     NULL|     NULL|RIGHT BRAIN STEM ...|                   0|                   1|\n",
      "|   475|       369| 145787|2142-10-09 07:15:00|2142-10-16 14:20:00|     NULL|      ELECTIVE|PHYS REFERRAL/NOR...|                 SNF| Medicare|    NULL|         CATHOLIC|       MARRIED|    WHITE|     NULL|     NULL|AORTIC STENOSIS\\A...|                   0|                   1|\n",
      "|    48|        49| 190539|2186-11-21 07:15:00|2186-11-28 14:05:00|     NULL|      ELECTIVE|PHYS REFERRAL/NOR...|                 SNF| Medicare|    NULL|    NOT SPECIFIED|       MARRIED|    WHITE|     NULL|     NULL|AORTIC STENOSIS\\A...|                   0|                   1|\n",
      "|    60|        61| 176332|2118-06-17 14:40:00|2118-07-20 12:30:00|     NULL|      ELECTIVE|PHYS REFERRAL/NOR...|    HOME HEALTH CARE|  Private|    NULL|         CATHOLIC|       MARRIED|    WHITE|     NULL|     NULL|NON-HODGKIN'S LYM...|                   0|                   1|\n",
      "|    77|        75| 112086|2147-04-05 08:00:00|2147-04-11 14:45:00|     NULL|      ELECTIVE|PHYS REFERRAL/NOR...|    HOME HEALTH CARE| Medicare|    NULL|         CATHOLIC|       MARRIED|    WHITE|     NULL|     NULL|AORTIC STENOSIS\\A...|                   0|                   1|\n",
      "+------+----------+-------+-------------------+-------------------+---------+--------------+--------------------+--------------------+---------+--------+-----------------+--------------+---------+---------+---------+--------------------+--------------------+--------------------+\n",
      "only showing top 10 rows\n",
      "\n"
     ]
    }
   ],
   "source": [
    "elective_patients = df.filter(df[\"admission_type\"] == 'ELECTIVE')\n",
    "elective_patients.show(10)"
   ]
  },
  {
   "cell_type": "code",
   "execution_count": 8,
   "id": "36ce4666-1869-421a-b37e-20f9ec173390",
   "metadata": {},
   "outputs": [
    {
     "name": "stdout",
     "output_type": "stream",
     "text": [
      "+------+----------+-------+-------------------+-------------------+-------------------+--------------+--------------------+--------------------+---------+--------+-----------------+--------------+--------------------+-------------------+-------------------+--------------------+--------------------+--------------------+\n",
      "|ROW_ID|SUBJECT_ID|HADM_ID|          ADMITTIME|          DISCHTIME|          DEATHTIME|ADMISSION_TYPE|  ADMISSION_LOCATION|  DISCHARGE_LOCATION|INSURANCE|LANGUAGE|         RELIGION|MARITAL_STATUS|           ETHNICITY|          EDREGTIME|          EDOUTTIME|           DIAGNOSIS|HOSPITAL_EXPIRE_FLAG|HAS_CHARTEVENTS_DATA|\n",
      "+------+----------+-------+-------------------+-------------------+-------------------+--------------+--------------------+--------------------+---------+--------+-----------------+--------------+--------------------+-------------------+-------------------+--------------------+--------------------+--------------------+\n",
      "|    21|        22| 165315|2196-04-09 12:26:00|2196-04-10 15:54:00|               NULL|     EMERGENCY|EMERGENCY ROOM ADMIT|DISC-TRAN CANCER/...|  Private|    NULL|     UNOBTAINABLE|       MARRIED|               WHITE|2196-04-09 10:06:00|2196-04-09 13:24:00|BENZODIAZEPINE OV...|                   0|                   1|\n",
      "|    23|        23| 124321|2157-10-18 19:34:00|2157-10-25 14:00:00|               NULL|     EMERGENCY|TRANSFER FROM HOS...|    HOME HEALTH CARE| Medicare|    ENGL|         CATHOLIC|       MARRIED|               WHITE|               NULL|               NULL|          BRAIN MASS|                   0|                   1|\n",
      "|    24|        24| 161859|2139-06-06 16:14:00|2139-06-09 12:48:00|               NULL|     EMERGENCY|TRANSFER FROM HOS...|                HOME|  Private|    NULL|PROTESTANT QUAKER|        SINGLE|               WHITE|               NULL|               NULL|INTERIOR MYOCARDI...|                   0|                   1|\n",
      "|    25|        25| 129635|2160-11-02 02:06:00|2160-11-05 14:55:00|               NULL|     EMERGENCY|EMERGENCY ROOM ADMIT|                HOME|  Private|    NULL|     UNOBTAINABLE|       MARRIED|               WHITE|2160-11-02 01:01:00|2160-11-02 04:27:00|ACUTE CORONARY SY...|                   0|                   1|\n",
      "|    26|        26| 197661|2126-05-06 15:16:00|2126-05-13 15:00:00|               NULL|     EMERGENCY|TRANSFER FROM HOS...|                HOME| Medicare|    NULL|         CATHOLIC|        SINGLE|UNKNOWN/NOT SPECI...|               NULL|               NULL|              V-TACH|                   0|                   1|\n",
      "|    30|        31| 128652|2108-08-22 23:27:00|2108-08-30 15:00:00|2108-08-30 15:00:00|     EMERGENCY|TRANSFER FROM HOS...|        DEAD/EXPIRED| Medicare|    NULL|         CATHOLIC|       MARRIED|               WHITE|               NULL|               NULL|  STATUS EPILEPTICUS|                   1|                   1|\n",
      "|    32|        33| 176176|2116-12-23 22:30:00|2116-12-27 12:05:00|               NULL|     EMERGENCY|EMERGENCY ROOM ADMIT|                HOME| Medicare|    NULL|PROTESTANT QUAKER|       MARRIED|UNKNOWN/NOT SPECI...|2116-12-23 14:42:00|2116-12-23 23:41:00|    SEPSIS;TELEMETRY|                   0|                   1|\n",
      "|    33|        34| 115799|2186-07-18 16:46:00|2186-07-20 16:00:00|               NULL|     EMERGENCY|TRANSFER FROM HOS...|                HOME| Medicare|    ENGL|         CATHOLIC|       MARRIED|               WHITE|               NULL|               NULL|     CHEST PAIN\\CATH|                   0|                   1|\n",
      "|    34|        34| 144319|2191-02-23 05:23:00|2191-02-25 20:20:00|               NULL|     EMERGENCY|CLINIC REFERRAL/P...|    HOME HEALTH CARE| Medicare|    ENGL|         CATHOLIC|       MARRIED|               WHITE|2191-02-23 04:23:00|2191-02-23 07:25:00|         BRADYCARDIA|                   0|                   1|\n",
      "|    36|        36| 182104|2131-04-30 07:15:00|2131-05-08 14:00:00|               NULL|     EMERGENCY|CLINIC REFERRAL/P...|    HOME HEALTH CARE| Medicare|    ENGL|    NOT SPECIFIED|       MARRIED|               WHITE|               NULL|               NULL|CORONARY ARTERY D...|                   0|                   1|\n",
      "+------+----------+-------+-------------------+-------------------+-------------------+--------------+--------------------+--------------------+---------+--------+-----------------+--------------+--------------------+-------------------+-------------------+--------------------+--------------------+--------------------+\n",
      "only showing top 10 rows\n",
      "\n"
     ]
    }
   ],
   "source": [
    "emergency_patients = df.filter(df[\"admission_type\"] == 'EMERGENCY')\n",
    "emergency_patients.show(10)"
   ]
  },
  {
   "cell_type": "markdown",
   "id": "b0d292f9-61f3-432f-b4fa-a161388bddf7",
   "metadata": {},
   "source": [
    "# 3. load into dataFrame and filter using spark SQL"
   ]
  },
  {
   "cell_type": "code",
   "execution_count": 13,
   "id": "7f093b8e-54b1-42d6-8944-9f738630ba60",
   "metadata": {},
   "outputs": [],
   "source": [
    "# register df as temporary view to run SparkSQL commands\n",
    "df.createOrReplaceTempView(\"admissions\")"
   ]
  },
  {
   "cell_type": "code",
   "execution_count": 15,
   "id": "4bedec86-686c-4251-9e0e-e9f3d52ab876",
   "metadata": {},
   "outputs": [
    {
     "name": "stdout",
     "output_type": "stream",
     "text": [
      "+------+----------+-------+-------------------+-------------------+-------------------+--------------+--------------------+--------------------+---------+--------+-----------------+--------------+--------------------+-------------------+-------------------+--------------------+--------------------+--------------------+-------------------+\n",
      "|ROW_ID|SUBJECT_ID|HADM_ID|          ADMITTIME|          DISCHTIME|          DEATHTIME|ADMISSION_TYPE|  ADMISSION_LOCATION|  DISCHARGE_LOCATION|INSURANCE|LANGUAGE|         RELIGION|MARITAL_STATUS|           ETHNICITY|          EDREGTIME|          EDOUTTIME|           DIAGNOSIS|HOSPITAL_EXPIRE_FLAG|HAS_CHARTEVENTS_DATA|length_of_stay_days|\n",
      "+------+----------+-------+-------------------+-------------------+-------------------+--------------+--------------------+--------------------+---------+--------+-----------------+--------------+--------------------+-------------------+-------------------+--------------------+--------------------+--------------------+-------------------+\n",
      "|    21|        22| 165315|2196-04-09 12:26:00|2196-04-10 15:54:00|               NULL|     EMERGENCY|EMERGENCY ROOM ADMIT|DISC-TRAN CANCER/...|  Private|    NULL|     UNOBTAINABLE|       MARRIED|               WHITE|2196-04-09 10:06:00|2196-04-09 13:24:00|BENZODIAZEPINE OV...|                   0|                   1|               1.14|\n",
      "|    23|        23| 124321|2157-10-18 19:34:00|2157-10-25 14:00:00|               NULL|     EMERGENCY|TRANSFER FROM HOS...|    HOME HEALTH CARE| Medicare|    ENGL|         CATHOLIC|       MARRIED|               WHITE|               NULL|               NULL|          BRAIN MASS|                   0|                   1|               6.77|\n",
      "|    24|        24| 161859|2139-06-06 16:14:00|2139-06-09 12:48:00|               NULL|     EMERGENCY|TRANSFER FROM HOS...|                HOME|  Private|    NULL|PROTESTANT QUAKER|        SINGLE|               WHITE|               NULL|               NULL|INTERIOR MYOCARDI...|                   0|                   1|               2.86|\n",
      "|    25|        25| 129635|2160-11-02 02:06:00|2160-11-05 14:55:00|               NULL|     EMERGENCY|EMERGENCY ROOM ADMIT|                HOME|  Private|    NULL|     UNOBTAINABLE|       MARRIED|               WHITE|2160-11-02 01:01:00|2160-11-02 04:27:00|ACUTE CORONARY SY...|                   0|                   1|               3.53|\n",
      "|    26|        26| 197661|2126-05-06 15:16:00|2126-05-13 15:00:00|               NULL|     EMERGENCY|TRANSFER FROM HOS...|                HOME| Medicare|    NULL|         CATHOLIC|        SINGLE|UNKNOWN/NOT SPECI...|               NULL|               NULL|              V-TACH|                   0|                   1|               6.99|\n",
      "|    30|        31| 128652|2108-08-22 23:27:00|2108-08-30 15:00:00|2108-08-30 15:00:00|     EMERGENCY|TRANSFER FROM HOS...|        DEAD/EXPIRED| Medicare|    NULL|         CATHOLIC|       MARRIED|               WHITE|               NULL|               NULL|  STATUS EPILEPTICUS|                   1|                   1|               7.65|\n",
      "|    32|        33| 176176|2116-12-23 22:30:00|2116-12-27 12:05:00|               NULL|     EMERGENCY|EMERGENCY ROOM ADMIT|                HOME| Medicare|    NULL|PROTESTANT QUAKER|       MARRIED|UNKNOWN/NOT SPECI...|2116-12-23 14:42:00|2116-12-23 23:41:00|    SEPSIS;TELEMETRY|                   0|                   1|               3.57|\n",
      "|    33|        34| 115799|2186-07-18 16:46:00|2186-07-20 16:00:00|               NULL|     EMERGENCY|TRANSFER FROM HOS...|                HOME| Medicare|    ENGL|         CATHOLIC|       MARRIED|               WHITE|               NULL|               NULL|     CHEST PAIN\\CATH|                   0|                   1|               1.97|\n",
      "|    34|        34| 144319|2191-02-23 05:23:00|2191-02-25 20:20:00|               NULL|     EMERGENCY|CLINIC REFERRAL/P...|    HOME HEALTH CARE| Medicare|    ENGL|         CATHOLIC|       MARRIED|               WHITE|2191-02-23 04:23:00|2191-02-23 07:25:00|         BRADYCARDIA|                   0|                   1|               2.62|\n",
      "|    36|        36| 182104|2131-04-30 07:15:00|2131-05-08 14:00:00|               NULL|     EMERGENCY|CLINIC REFERRAL/P...|    HOME HEALTH CARE| Medicare|    ENGL|    NOT SPECIFIED|       MARRIED|               WHITE|               NULL|               NULL|CORONARY ARTERY D...|                   0|                   1|               8.28|\n",
      "|    37|        36| 122659|2131-05-12 19:49:00|2131-05-25 13:30:00|               NULL|     EMERGENCY|EMERGENCY ROOM ADMIT|REHAB/DISTINCT PA...| Medicare|    ENGL|    NOT SPECIFIED|       MARRIED|               WHITE|2131-05-12 17:26:00|2131-05-12 22:17:00|CHEST PAIN/SHORTN...|                   0|                   1|              12.74|\n",
      "|    39|        37| 188670|2183-08-21 16:48:00|2183-08-26 18:54:00|               NULL|     EMERGENCY|EMERGENCY ROOM ADMIT|    HOME HEALTH CARE| Medicare|    NULL|           JEWISH|       MARRIED|               WHITE|2183-08-21 05:58:00|2183-08-21 17:45:00|CONGESTIVE HEART ...|                   0|                   1|               5.09|\n",
      "|    40|        38| 185910|2166-08-10 00:28:00|2166-09-04 11:30:00|               NULL|     EMERGENCY|TRANSFER FROM HOS...|LONG TERM CARE HO...| Medicare|    NULL|         CATHOLIC|       WIDOWED|               WHITE|               NULL|               NULL|ACUTE MYOCARDIAL ...|                   0|                   1|              25.46|\n",
      "|   456|       357| 174486|2197-12-06 07:13:00|2198-01-03 14:00:00|               NULL|     EMERGENCY|EMERGENCY ROOM ADMIT|REHAB/DISTINCT PA...|  Private|    ENGL|    NOT SPECIFIED|       MARRIED|               WHITE|2197-12-06 06:28:00|2197-12-06 07:43:00|GASTROINTESTINAL ...|                   0|                   1|              28.28|\n",
      "|   457|       357| 145674|2198-08-02 04:49:00|2198-10-26 14:55:00|               NULL|     EMERGENCY|EMERGENCY ROOM ADMIT|REHAB/DISTINCT PA...|  Private|    ENGL|    NOT SPECIFIED|       MARRIED|               WHITE|2198-08-02 02:03:00|2198-08-02 05:37:00|             SEIZURE|                   0|                   1|              85.42|\n",
      "|   458|       357| 122609|2198-11-01 22:36:00|2198-11-14 14:20:00|               NULL|     EMERGENCY|EMERGENCY ROOM ADMIT|REHAB/DISTINCT PA...|  Private|    ENGL|    NOT SPECIFIED|       MARRIED|               WHITE|2198-11-01 18:01:00|2198-11-01 23:06:00|              SEPSIS|                   0|                   1|              12.66|\n",
      "|   459|       357| 101651|2199-10-20 12:05:00|2199-10-23 17:30:00|               NULL|     EMERGENCY|EMERGENCY ROOM ADMIT|                 SNF|  Private|    ENGL|    NOT SPECIFIED|       MARRIED|               WHITE|2199-10-20 09:34:00|2199-10-20 13:25:00|           PNEUMONIA|                   0|                   1|               3.23|\n",
      "|   460|       357| 117876|2199-12-21 22:37:00|2200-01-18 11:45:00|               NULL|     EMERGENCY|EMERGENCY ROOM ADMIT|                 SNF|  Private|    ENGL|    NOT SPECIFIED|       MARRIED|               WHITE|2199-12-21 20:38:00|2199-12-22 00:01:00|ALTERED MENTAL ST...|                   0|                   1|              27.55|\n",
      "|   462|       359| 144265|2176-06-30 03:00:00|2176-07-03 15:12:00|               NULL|     EMERGENCY|TRANSFER FROM HOS...|                HOME| Self Pay|    VIET|         BUDDHIST|       MARRIED|UNKNOWN/NOT SPECI...|               NULL|               NULL|R/O MYOCARDIAL IN...|                   0|                   1|               3.51|\n",
      "|   463|       360| 154871|2176-06-25 17:50:00|2176-07-02 14:28:00|               NULL|     EMERGENCY|EMERGENCY ROOM ADMIT|REHAB/DISTINCT PA...| Medicare|    NULL|PROTESTANT QUAKER|       MARRIED|               WHITE|2176-06-25 14:13:00|2176-06-25 19:24:00|CEREBROVASCULAR A...|                   0|                   1|               6.86|\n",
      "+------+----------+-------+-------------------+-------------------+-------------------+--------------+--------------------+--------------------+---------+--------+-----------------+--------------+--------------------+-------------------+-------------------+--------------------+--------------------+--------------------+-------------------+\n",
      "only showing top 20 rows\n",
      "\n"
     ]
    }
   ],
   "source": [
    "# For example, to filter patients with an admission type of \"EMERGENCY\"\n",
    "emergency_patients = spark.sql(\"\"\"\n",
    "    SELECT *\n",
    "    FROM admissions\n",
    "    WHERE ADMISSION_TYPE = 'EMERGENCY'\n",
    "\"\"\")\n",
    "emergency_patients.show()"
   ]
  },
  {
   "cell_type": "code",
   "execution_count": 16,
   "id": "4d54f0cc-bc1e-4a7c-ae06-51ff9a9e4e8c",
   "metadata": {},
   "outputs": [],
   "source": [
    "# save filtered data as csv file in HDFS\n",
    "emergency_patients.write.format(\"csv\") \\\n",
    "    .option(\"header\", True) \\\n",
    "    .mode(\"overwrite\") \\\n",
    "    .save(\"hdfs://namenode:9000/mimic-iii/emergency_patients\")"
   ]
  },
  {
   "cell_type": "markdown",
   "id": "9360122a-59c2-45eb-9f17-818dcac4c8ce",
   "metadata": {},
   "source": [
    "# Part 2: Aggregating data and calculating statistics"
   ]
  },
  {
   "cell_type": "markdown",
   "id": "1517e4d6-659e-4064-b426-5a77ff6e9011",
   "metadata": {},
   "source": [
    "## 1. Basic Statistics"
   ]
  },
  {
   "cell_type": "code",
   "execution_count": 6,
   "id": "87b2fccb-218d-4972-89ed-5b7590a27f14",
   "metadata": {},
   "outputs": [
    {
     "name": "stdout",
     "output_type": "stream",
     "text": [
      "Total Admissions: 58976\n"
     ]
    }
   ],
   "source": [
    "total_admissions = df.count()\n",
    "print(\"Total Admissions:\", total_admissions)"
   ]
  },
  {
   "cell_type": "code",
   "execution_count": 7,
   "id": "dba6f7b4-02a1-4123-b568-199536adea91",
   "metadata": {},
   "outputs": [
    {
     "name": "stdout",
     "output_type": "stream",
     "text": [
      "Unique Patients: 46520\n"
     ]
    }
   ],
   "source": [
    "unique_patients = df.select(\"SUBJECT_ID\").distinct().count()\n",
    "print(\"Unique Patients:\", unique_patients)"
   ]
  },
  {
   "cell_type": "code",
   "execution_count": 8,
   "id": "97ca3534-ceae-4651-b50c-322c04809265",
   "metadata": {},
   "outputs": [
    {
     "name": "stdout",
     "output_type": "stream",
     "text": [
      "+--------------+---------------+\n",
      "|ADMISSION_TYPE|ADMISSION_COUNT|\n",
      "+--------------+---------------+\n",
      "|       NEWBORN|           7863|\n",
      "|      ELECTIVE|           7706|\n",
      "|     EMERGENCY|          42071|\n",
      "|        URGENT|           1336|\n",
      "+--------------+---------------+\n",
      "\n"
     ]
    }
   ],
   "source": [
    "from pyspark.sql.functions import count\n",
    "df.groupBy(\"ADMISSION_TYPE\").agg(count(\"*\").alias(\"ADMISSION_COUNT\")).show()"
   ]
  },
  {
   "cell_type": "code",
   "execution_count": null,
   "id": "fe1e124a-b282-4d70-8fa0-a827e838cdcd",
   "metadata": {},
   "outputs": [],
   "source": [
    "# 2. Length of stay"
   ]
  },
  {
   "cell_type": "code",
   "execution_count": 9,
   "id": "88cee0c9-0e9e-4c92-9db8-5021478dd0d6",
   "metadata": {},
   "outputs": [
    {
     "name": "stdout",
     "output_type": "stream",
     "text": [
      "+----------+-------+-------------------+-------------------+--------------+\n",
      "|SUBJECT_ID|HADM_ID|          ADMITTIME|          DISCHTIME|LENGTH_OF_STAY|\n",
      "+----------+-------+-------------------+-------------------+--------------+\n",
      "|        22| 165315|2196-04-09 12:26:00|2196-04-10 15:54:00|             1|\n",
      "|        23| 152223|2153-09-03 07:15:00|2153-09-08 19:10:00|             5|\n",
      "|        23| 124321|2157-10-18 19:34:00|2157-10-25 14:00:00|             7|\n",
      "|        24| 161859|2139-06-06 16:14:00|2139-06-09 12:48:00|             3|\n",
      "|        25| 129635|2160-11-02 02:06:00|2160-11-05 14:55:00|             3|\n",
      "+----------+-------+-------------------+-------------------+--------------+\n",
      "only showing top 5 rows\n",
      "\n"
     ]
    }
   ],
   "source": [
    "from pyspark.sql.functions import col, unix_timestamp, datediff\n",
    "\n",
    "# Convert ADMITTIME and DISCHTIME to timestamps\n",
    "df = df.withColumn(\"ADMITTIME\", col(\"ADMITTIME\").cast(\"timestamp\")) \\\n",
    "       .withColumn(\"DISCHTIME\", col(\"DISCHTIME\").cast(\"timestamp\"))\n",
    "\n",
    "# Calculate length of stay in days\n",
    "df = df.withColumn(\"LENGTH_OF_STAY\", datediff(col(\"DISCHTIME\"), col(\"ADMITTIME\")))\n",
    "\n",
    "# Show the DataFrame with the new LENGTH_OF_STAY column\n",
    "df.select(\"SUBJECT_ID\", \"HADM_ID\", \"ADMITTIME\", \"DISCHTIME\", \"LENGTH_OF_STAY\").show(5)"
   ]
  },
  {
   "cell_type": "code",
   "execution_count": 10,
   "id": "9c0c01d5-84d2-4fd8-b75a-d94f0a3696c6",
   "metadata": {},
   "outputs": [
    {
     "name": "stdout",
     "output_type": "stream",
     "text": [
      "Median Length of Stay (in days): 6.0\n"
     ]
    }
   ],
   "source": [
    "median_los = df.approxQuantile(\"LENGTH_OF_STAY\", [0.5], 0.01)\n",
    "print(\"Median Length of Stay (in days):\", median_los[0])"
   ]
  },
  {
   "cell_type": "code",
   "execution_count": 12,
   "id": "edffbe6c-394c-46ee-8dd0-6944db3657af",
   "metadata": {},
   "outputs": [
    {
     "name": "stdout",
     "output_type": "stream",
     "text": [
      "Minimum Length of Stay (in days): 0\n",
      "Maximum Length of Stay (in days): 295\n",
      "Mean Length of Stay (in days): 10.090765735214324\n"
     ]
    }
   ],
   "source": [
    "from pyspark.sql.functions import mean, min, max\n",
    "\n",
    "min_los = df.select(min(\"LENGTH_OF_STAY\")).collect()[0][0]\n",
    "max_los = df.select(max(\"LENGTH_OF_STAY\")).collect()[0][0]\n",
    "mean_los = df.select(mean(\"LENGTH_OF_STAY\")).collect()[0][0]\n",
    "\n",
    "print(\"Minimum Length of Stay (in days):\", min_los)\n",
    "print(\"Maximum Length of Stay (in days):\", max_los)\n",
    "print(\"Mean Length of Stay (in days):\", mean_los)"
   ]
  },
  {
   "cell_type": "code",
   "execution_count": 13,
   "id": "056b9590-d746-473d-8a01-a3594949f855",
   "metadata": {},
   "outputs": [
    {
     "name": "stdout",
     "output_type": "stream",
     "text": [
      "+--------------+------------------+-------+-------+\n",
      "|ADMISSION_TYPE|           AVG_LOS|MIN_LOS|MAX_LOS|\n",
      "+--------------+------------------+-------+-------+\n",
      "|       NEWBORN|11.461783034465217|      0|    172|\n",
      "|      ELECTIVE|   8.6549441993252|      0|    295|\n",
      "|     EMERGENCY|10.026241353901737|      0|    207|\n",
      "|        URGENT|12.335329341317365|      0|    174|\n",
      "+--------------+------------------+-------+-------+\n",
      "\n"
     ]
    }
   ],
   "source": [
    "from pyspark.sql.functions import avg\n",
    "\n",
    "df.groupBy(\"ADMISSION_TYPE\").agg(\n",
    "    avg(\"LENGTH_OF_STAY\").alias(\"AVG_LOS\"),\n",
    "    min(\"LENGTH_OF_STAY\").alias(\"MIN_LOS\"),\n",
    "    max(\"LENGTH_OF_STAY\").alias(\"MAX_LOS\")\n",
    ").show()"
   ]
  },
  {
   "cell_type": "code",
   "execution_count": 14,
   "id": "653305fa-cbeb-4f14-afca-e15074aea17a",
   "metadata": {},
   "outputs": [],
   "source": [
    "# 3. Mortality Statistics"
   ]
  },
  {
   "cell_type": "code",
   "execution_count": 17,
   "id": "6ebd7951-a334-4ce4-9088-d4970e19ffe5",
   "metadata": {},
   "outputs": [
    {
     "name": "stdout",
     "output_type": "stream",
     "text": [
      "In-Hospital Mortality Rate: 0.09926071622354857\n"
     ]
    }
   ],
   "source": [
    "mortality_rate = df.filter(col(\"HOSPITAL_EXPIRE_FLAG\") == 1).count() / total_admissions\n",
    "print(\"In-Hospital Mortality Rate:\", mortality_rate)"
   ]
  },
  {
   "cell_type": "code",
   "execution_count": 21,
   "id": "35df3b8e-78f6-49db-a996-e498a45483fc",
   "metadata": {},
   "outputs": [],
   "source": [
    "# 4. Admission Location and Discharge Location"
   ]
  },
  {
   "cell_type": "code",
   "execution_count": 22,
   "id": "485dba40-5415-4996-a31e-9e5c0f46f5f9",
   "metadata": {},
   "outputs": [
    {
     "name": "stdout",
     "output_type": "stream",
     "text": [
      "+--------------------+-----+\n",
      "|  ADMISSION_LOCATION|COUNT|\n",
      "+--------------------+-----+\n",
      "|EMERGENCY ROOM ADMIT|22754|\n",
      "|PHYS REFERRAL/NOR...|15079|\n",
      "|CLINIC REFERRAL/P...|12032|\n",
      "|TRANSFER FROM HOS...| 8456|\n",
      "|TRANSFER FROM SKI...|  273|\n",
      "|** INFO NOT AVAIL...|  204|\n",
      "|   HMO REFERRAL/SICK|  102|\n",
      "|TRANSFER FROM OTH...|   71|\n",
      "|TRSF WITHIN THIS ...|    5|\n",
      "+--------------------+-----+\n",
      "\n"
     ]
    }
   ],
   "source": [
    "from pyspark.sql.functions import desc\n",
    "\n",
    "# Most Common Admission Locations\n",
    "df.groupBy(\"ADMISSION_LOCATION\").agg(count(\"*\").alias(\"COUNT\")).orderBy(desc(\"COUNT\")).show()"
   ]
  },
  {
   "cell_type": "code",
   "execution_count": 23,
   "id": "7fb03668-5fa1-4195-a5d9-305581d63409",
   "metadata": {},
   "outputs": [],
   "source": [
    "# 5. Insurance Statistics"
   ]
  },
  {
   "cell_type": "code",
   "execution_count": 25,
   "id": "e33ec7a0-b9a0-437f-921a-e082e3d189d4",
   "metadata": {},
   "outputs": [
    {
     "name": "stdout",
     "output_type": "stream",
     "text": [
      "+----------+-----+\n",
      "| INSURANCE|COUNT|\n",
      "+----------+-----+\n",
      "|  Medicare|28215|\n",
      "|   Private|22582|\n",
      "|  Medicaid| 5785|\n",
      "|Government| 1783|\n",
      "|  Self Pay|  611|\n",
      "+----------+-----+\n",
      "\n"
     ]
    }
   ],
   "source": [
    "# Distribution of Insurance Types:\n",
    "df.groupBy(\"INSURANCE\").agg(count(\"*\").alias(\"COUNT\")).orderBy(desc(\"COUNT\")).show()"
   ]
  },
  {
   "cell_type": "code",
   "execution_count": 26,
   "id": "00216cd8-9ceb-4e3b-9770-5d92e9b4d353",
   "metadata": {},
   "outputs": [
    {
     "name": "stdout",
     "output_type": "stream",
     "text": [
      "+----------+------------------+-------+-------+\n",
      "| INSURANCE|           AVG_LOS|MIN_LOS|MAX_LOS|\n",
      "+----------+------------------+-------+-------+\n",
      "|Government| 9.729108244531687|      0|    133|\n",
      "|  Self Pay| 6.337152209492635|      0|     85|\n",
      "|   Private|10.138074572668497|      0|    207|\n",
      "|  Medicaid|11.436646499567848|      0|    202|\n",
      "|  Medicare| 9.881091617933723|      0|    295|\n",
      "+----------+------------------+-------+-------+\n",
      "\n"
     ]
    }
   ],
   "source": [
    "# Length of Stay by Insurance Type:\n",
    "df.groupBy(\"INSURANCE\").agg(\n",
    "    avg(\"LENGTH_OF_STAY\").alias(\"AVG_LOS\"),\n",
    "    min(\"LENGTH_OF_STAY\").alias(\"MIN_LOS\"),\n",
    "    max(\"LENGTH_OF_STAY\").alias(\"MAX_LOS\")\n",
    ").show()"
   ]
  },
  {
   "cell_type": "code",
   "execution_count": 27,
   "id": "d42517f6-a1b4-4ff6-a633-6d4b9ce9f3f1",
   "metadata": {},
   "outputs": [
    {
     "name": "stdout",
     "output_type": "stream",
     "text": [
      "+--------------------+-----+\n",
      "|           ETHNICITY|COUNT|\n",
      "+--------------------+-----+\n",
      "|               WHITE|40996|\n",
      "|BLACK/AFRICAN AME...| 5440|\n",
      "|UNKNOWN/NOT SPECI...| 4523|\n",
      "|  HISPANIC OR LATINO| 1696|\n",
      "|               OTHER| 1512|\n",
      "|               ASIAN| 1509|\n",
      "|    UNABLE TO OBTAIN|  814|\n",
      "|PATIENT DECLINED ...|  559|\n",
      "|     ASIAN - CHINESE|  277|\n",
      "|HISPANIC/LATINO -...|  232|\n",
      "|  BLACK/CAPE VERDEAN|  200|\n",
      "|     WHITE - RUSSIAN|  164|\n",
      "|MULTI RACE ETHNICITY|  130|\n",
      "|       BLACK/HAITIAN|  101|\n",
      "|ASIAN - ASIAN INDIAN|   85|\n",
      "|WHITE - OTHER EUR...|   81|\n",
      "|HISPANIC/LATINO -...|   78|\n",
      "|          PORTUGUESE|   61|\n",
      "|   WHITE - BRAZILIAN|   59|\n",
      "|  ASIAN - VIETNAMESE|   53|\n",
      "+--------------------+-----+\n",
      "only showing top 20 rows\n",
      "\n"
     ]
    }
   ],
   "source": [
    "# 6. Ethnicity and Language Statistics\n",
    "# Distribution of Ethnicities:\n",
    "df.groupBy(\"ETHNICITY\").agg(count(\"*\").alias(\"COUNT\")).orderBy(desc(\"COUNT\")).show()"
   ]
  },
  {
   "cell_type": "code",
   "execution_count": 28,
   "id": "835e1bf3-53de-4767-b6b0-6bda968b6286",
   "metadata": {},
   "outputs": [
    {
     "name": "stdout",
     "output_type": "stream",
     "text": [
      "+--------+-----+\n",
      "|LANGUAGE|COUNT|\n",
      "+--------+-----+\n",
      "|    ENGL|29086|\n",
      "|    NULL|25332|\n",
      "|    SPAN| 1083|\n",
      "|    RUSS|  790|\n",
      "|    PTUN|  628|\n",
      "|    CANT|  413|\n",
      "|    PORT|  342|\n",
      "|    CAPE|  256|\n",
      "|    MAND|  156|\n",
      "|    HAIT|  150|\n",
      "|    ITAL|  124|\n",
      "|    VIET|   94|\n",
      "|    GREE|   75|\n",
      "|    ARAB|   47|\n",
      "|    PERS|   44|\n",
      "|    CAMB|   37|\n",
      "|    POLI|   34|\n",
      "|    AMER|   31|\n",
      "|    HIND|   24|\n",
      "|    KORE|   23|\n",
      "+--------+-----+\n",
      "only showing top 20 rows\n",
      "\n"
     ]
    }
   ],
   "source": [
    "# Most Common Languages:\n",
    "df.groupBy(\"LANGUAGE\").agg(count(\"*\").alias(\"COUNT\")).orderBy(desc(\"COUNT\")).show()"
   ]
  },
  {
   "cell_type": "code",
   "execution_count": 29,
   "id": "b007e630-dbed-466a-bce9-22ebb93f7cc2",
   "metadata": {},
   "outputs": [
    {
     "name": "stdout",
     "output_type": "stream",
     "text": [
      "+---------------------------------------------------------+-----+\n",
      "|DIAGNOSIS                                                |COUNT|\n",
      "+---------------------------------------------------------+-----+\n",
      "|NEWBORN                                                  |7823 |\n",
      "|PNEUMONIA                                                |1566 |\n",
      "|SEPSIS                                                   |1184 |\n",
      "|CONGESTIVE HEART FAILURE                                 |928  |\n",
      "|CORONARY ARTERY DISEASE                                  |840  |\n",
      "|CHEST PAIN                                               |778  |\n",
      "|INTRACRANIAL HEMORRHAGE                                  |713  |\n",
      "|ALTERED MENTAL STATUS                                    |712  |\n",
      "|GASTROINTESTINAL BLEED                                   |686  |\n",
      "|CORONARY ARTERY DISEASE\\CORONARY ARTERY BYPASS GRAFT /SDA|583  |\n",
      "|UPPER GI BLEED                                           |580  |\n",
      "|ABDOMINAL PAIN                                           |554  |\n",
      "|FEVER                                                    |510  |\n",
      "|DIABETIC KETOACIDOSIS                                    |462  |\n",
      "|CORONARY ARTERY DISEASE\\CORONARY ARTERY BYPASS GRAFT/SDA |450  |\n",
      "|S/P FALL                                                 |444  |\n",
      "|LOWER GI BLEED                                           |442  |\n",
      "|SUBARACHNOID HEMORRHAGE                                  |440  |\n",
      "|HYPOTENSION                                              |416  |\n",
      "|STROKE;TELEMETRY;TRANSIENT ISCHEMIC ATTACK               |341  |\n",
      "+---------------------------------------------------------+-----+\n",
      "only showing top 20 rows\n",
      "\n"
     ]
    }
   ],
   "source": [
    "# 7. Diagnosis Statistics\n",
    "# Most Common Diagnoses:\n",
    "df.groupBy(\"DIAGNOSIS\").agg(count(\"*\").alias(\"COUNT\")).orderBy(desc(\"COUNT\")).show(truncate=False)"
   ]
  },
  {
   "cell_type": "code",
   "execution_count": 30,
   "id": "6982c51f-e902-432a-a102-08b16eb1ffde",
   "metadata": {},
   "outputs": [
    {
     "name": "stdout",
     "output_type": "stream",
     "text": [
      "+------------------------------------------------------------------+-------+-------+-------+\n",
      "|DIAGNOSIS                                                         |AVG_LOS|MIN_LOS|MAX_LOS|\n",
      "+------------------------------------------------------------------+-------+-------+-------+\n",
      "|CROHN'S DISEASE;ABDOMINAL FISTULA                                 |295.0  |295    |295    |\n",
      "|ASPIRATION; FAILURE TO THRIVE                                     |192.0  |192    |192    |\n",
      "|CHRONIC LYMPHOCYTIC LEUKEMIA\\BONE MARROW TRANSPLANT               |169.0  |169    |169    |\n",
      "|L THIGH FLUID COLLECTION                                          |167.0  |167    |167    |\n",
      "|AMC;FEVER                                                         |165.0  |165    |165    |\n",
      "|S/P LIVER TX-NAUSEA-VOMITING                                      |138.0  |138    |138    |\n",
      "|APLASTIC ANEMIA;PANCYTOPENIA                                      |138.0  |138    |138    |\n",
      "|PULMONARY EMBOLISM;SUBDURAL HEMATOMA                              |132.0  |132    |132    |\n",
      "|ACUTE MYELOGENOUS LEUKEMIA;CHEMOTHERAPY                           |130.0  |130    |130    |\n",
      "|MULTIPLE MYELOMA;FEVER;NEUTROPENIA                                |129.0  |129    |129    |\n",
      "|MYELODYSPLASIA;BONE MARROW TRANSPLANT/SDA                         |126.0  |126    |126    |\n",
      "|RT CEREBELLAR BLEED                                               |125.0  |125    |125    |\n",
      "|LARGE ABDOMINAL FISTULA                                           |124.0  |124    |124    |\n",
      "|FACIAL NUMBNESS                                                   |124.0  |124    |124    |\n",
      "|ELEVATED WHITE BLOOD COUNT                                        |119.0  |119    |119    |\n",
      "|SMALL BOWEL FISTULA                                               |116.0  |116    |116    |\n",
      "|INFECTED LEG                                                      |107.0  |107    |107    |\n",
      "|\"TRACHEAL BRONCHIAL MALACIA\\ BRONCHOSCOPY W/\"\"Y\"\" STENT PLACEMENT\"|107.0  |107    |107    |\n",
      "|FOUND DOWN,SUB DURAL HEMATOMA                                     |104.0  |104    |104    |\n",
      "|UTI;ABDOMINAL PAIN                                                |102.0  |102    |102    |\n",
      "+------------------------------------------------------------------+-------+-------+-------+\n",
      "only showing top 20 rows\n",
      "\n"
     ]
    }
   ],
   "source": [
    "# Length of Stay by Diagnosis:\n",
    "df.groupBy(\"DIAGNOSIS\").agg(\n",
    "    avg(\"LENGTH_OF_STAY\").alias(\"AVG_LOS\"),\n",
    "    min(\"LENGTH_OF_STAY\").alias(\"MIN_LOS\"),\n",
    "    max(\"LENGTH_OF_STAY\").alias(\"MAX_LOS\")\n",
    ").orderBy(desc(\"AVG_LOS\")).show(truncate=False)"
   ]
  },
  {
   "cell_type": "code",
   "execution_count": null,
   "id": "b3004845-ea7f-4a31-8e77-3bf956146435",
   "metadata": {},
   "outputs": [],
   "source": []
  }
 ],
 "metadata": {
  "kernelspec": {
   "display_name": "Python 3 (ipykernel)",
   "language": "python",
   "name": "python3"
  },
  "language_info": {
   "codemirror_mode": {
    "name": "ipython",
    "version": 3
   },
   "file_extension": ".py",
   "mimetype": "text/x-python",
   "name": "python",
   "nbconvert_exporter": "python",
   "pygments_lexer": "ipython3",
   "version": "3.11.6"
  }
 },
 "nbformat": 4,
 "nbformat_minor": 5
}
